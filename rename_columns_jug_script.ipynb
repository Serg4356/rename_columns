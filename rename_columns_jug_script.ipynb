{
 "cells": [
  {
   "cell_type": "code",
   "execution_count": 43,
   "metadata": {},
   "outputs": [],
   "source": [
    "import pandas as pd\n",
    "from os import listdir\n",
    "from os.path import splitext, join\n",
    "\n",
    "\n",
    "\n",
    "def get_files_list(path):\n",
    "    excel_files_list = []\n",
    "    for i in listdir(path):\n",
    "        if splitext(i)[1].lower() in ['.xlsx', '.xls', '.xlsm']:\n",
    "            if not '~$' in splitext(i)[0]:\n",
    "                excel_files_list.append(i)\n",
    "    return excel_files_list\n",
    "\n",
    "\n",
    "def save_df_csv(name, df):\n",
    "    df.to_csv('C:\\\\Users\\\\serg\\\\jug\\\\source\\\\colnames_{}.csv'.format(name), sep=';', encoding='utf-8-sig')\n",
    "\n",
    "\n",
    "def get_new_names(df):\n",
    "    colvalues = df.columns.values\n",
    "    for v,i in enumerate(colvalues):\n",
    "        if 'Unnamed' in i:\n",
    "            colvalues[v] = colvalues[v-1]\n",
    "    new_names = []\n",
    "    z = list(df.iloc[0, :])\n",
    "    for i, v in enumerate(colvalues):\n",
    "        new_names.append('{}|{}'.format(colvalues[i], z[i]))\n",
    "    return new_names"
   ]
  },
  {
   "cell_type": "code",
   "execution_count": 42,
   "metadata": {},
   "outputs": [],
   "source": [
    "files_list = get_files_list('C:\\\\Users\\\\serg\\\\jug\\\\source')\n",
    "for i in files_list:\n",
    "    x = pd.read_excel(join('C:\\\\Users\\\\serg\\\\jug\\\\source', i))\n",
    "    x.columns = get_new_names(x)\n",
    "    x.drop(0, axis=0, inplace=True)\n",
    "    save_df_csv(splitext(i)[0], x)"
   ]
  }
 ],
 "metadata": {
  "kernelspec": {
   "display_name": "Python 3",
   "language": "python",
   "name": "python3"
  },
  "language_info": {
   "codemirror_mode": {
    "name": "ipython",
    "version": 3
   },
   "file_extension": ".py",
   "mimetype": "text/x-python",
   "name": "python",
   "nbconvert_exporter": "python",
   "pygments_lexer": "ipython3",
   "version": "3.7.0"
  }
 },
 "nbformat": 4,
 "nbformat_minor": 2
}
